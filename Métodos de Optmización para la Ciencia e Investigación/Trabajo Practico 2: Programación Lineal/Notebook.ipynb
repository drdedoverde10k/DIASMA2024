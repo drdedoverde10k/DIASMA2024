{
 "cells": [
  {
   "cell_type": "markdown",
   "metadata": {},
   "source": [
    "# Desarrollo de Ejercicios Propuestos"
   ]
  },
  {
   "cell_type": "markdown",
   "metadata": {},
   "source": [
    "## 1. Problema del Almacen de Pescado\n",
    "\n",
    "Se solicita minimizar la cantidad de sobrante de pescado en un almacen, de acuerdo a la siguiente función de costo:\n",
    "\n",
    "$$Min: s_1+s_2+s_3$$\n",
    "\n",
    "Donde:\n",
    "\n",
    "$s_1$ : Sobrante de Merluza\n",
    "\n",
    "$s_2$ : Sobrante de Mero\n",
    "\n",
    "$s_3$ : Sobrante de Calamar\n",
    "\n",
    "\n",
    "Se tienen los siguiente productos:\n",
    "\n",
    "$x_1$ : Croquetas de Pescado\n",
    "\n",
    "$x_2$ : Pudding de Pescado\n",
    "\n",
    "$x_3$ : Delicias Marineras\n"
   ]
  },
  {
   "cell_type": "markdown",
   "metadata": {},
   "source": [
    "Dadas las siguientes restricciones\n",
    "\n",
    "$$0.2x_1+0x_2+0.1x_3+s_1=200 \\\\ 0.5x_1+0.5x_2+0.4x_3+s_2=800 \\\\\n",
    "0x_1+0.2x_2+0.3x_3+s_3=150$$\n",
    "\n",
    "$$x_1, x_2, x_3, s_1, s_2, s_3 \\geq 0$$\n"
   ]
  },
  {
   "cell_type": "markdown",
   "metadata": {},
   "source": [
    "\n",
    "Estas restricciones se representan en forma de matriz como:\n",
    "\n",
    "$$A_{\\text{eq}} =\\begin{bmatrix} 0.2 & 0   & 0.1 & 1 & 0 & 0 \\\\ 0.5 & 0.5 & 0.4 & 0 & 1 & 0 \\\\0   & 0.2 & 0.3 & 0 & 0 & 1\\end{bmatrix}$$\n",
    "\n",
    "\n",
    "\n"
   ]
  },
  {
   "cell_type": "markdown",
   "metadata": {},
   "source": [
    "Códigos de Referencia:\n",
    "\n",
    "Fuente: https://phuijse.github.io/PythonBook/contents/calculus/optimization.html\n",
    "\n",
    "Fuente: https://docs.scipy.org/doc/scipy/reference/generated/scipy.optimize.linprog.html"
   ]
  },
  {
   "cell_type": "code",
   "execution_count": 2,
   "metadata": {},
   "outputs": [
    {
     "name": "stdout",
     "output_type": "stream",
     "text": [
      "   Croquetas (kg)  Pudding (kg)  Delicias (kg)  Sobrante de Merluza (kg)  \\\n",
      "0           937.5         562.5          125.0                       0.0   \n",
      "\n",
      "   Sobrante de Mero (kg)  Sobrante de Calamar (kg)  \n",
      "0                    0.0                       0.0  \n"
     ]
    }
   ],
   "source": [
    "# Importar librerías necesarias\n",
    "from scipy.optimize import linprog\n",
    "import pandas as pd\n",
    "\n",
    "# Datos del problema\n",
    "# Coeficientes en la función objetivo (minimizar sobras de pescado)\n",
    "c = [0, 0, 0, 1, 1, 1]  # [x1, x2, x3, sobrante_merluza, sobrante_mero, sobrante_calamar]\n",
    "\n",
    "# Restricciones de igualdad (uso de ingredientes y sobras)\n",
    "# Croquetas (20% merluza, 50% mero)\n",
    "# Pudding (50% mero, 20% calamar)\n",
    "# Delicias (10% merluza, 40% mero, 30% calamar)\n",
    "\n",
    "# Matriz de coeficientes (A_eq * x = b_eq)\n",
    "A_eq = [\n",
    "    [0.2, 0, 0.1, 1, 0, 0],  # Merluza en productos + sobrante\n",
    "    [0.5, 0.5, 0.4, 0, 1, 0],  # Mero en productos + sobrante\n",
    "    [0, 0.2, 0.3, 0, 0, 1]   # Calamar en productos + sobrante\n",
    "]\n",
    "b_eq = [200, 800, 150]  # Disponibilidad de merluza, mero, calamar\n",
    "\n",
    "# Restricciones de no negatividad (productos y sobras >= 0)\n",
    "bounds = [(0, None)] * 6\n",
    "\n",
    "# Resolver el problema con linprog\n",
    "result = linprog(c, A_eq=A_eq, b_eq=b_eq, bounds=bounds, method='highs')\n",
    "\n",
    "# Verificar y mostrar resultados\n",
    "if result.success:\n",
    "    solution = result.x\n",
    "    croquetas, pudding, delicias, sobra_merluza, sobra_mero, sobra_calamar = solution\n",
    "    result_data = {\n",
    "        \"Croquetas (kg)\": croquetas,\n",
    "        \"Pudding (kg)\": pudding,\n",
    "        \"Delicias (kg)\": delicias,\n",
    "        \"Sobrante de Merluza (kg)\": sobra_merluza,\n",
    "        \"Sobrante de Mero (kg)\": sobra_mero,\n",
    "        \"Sobrante de Calamar (kg)\": sobra_calamar,\n",
    "    }\n",
    "else:\n",
    "    result_data = {\"Error\": \"No se encontró una solución óptima.\"}\n",
    "\n",
    "# Mostrar resultados en consola\n",
    "result_df = pd.DataFrame([result_data])\n",
    "print(result_df)"
   ]
  },
  {
   "cell_type": "markdown",
   "metadata": {},
   "source": [
    "### Resultados\n",
    "\n",
    "Las cantidades optimizas de cada producto que satisfacen la función de costo con el fin de minimizar la cantidad de sobrante de pescado son:\n",
    "\n",
    "Croquetas de Pescado: $935.5kg\\\\$\n",
    "Pudding de Pescado: $562.5kg\\\\$\n",
    "Delicias Marineras: $125.0kg\\\\$"
   ]
  },
  {
   "cell_type": "markdown",
   "metadata": {},
   "source": [
    "## 2. Problema de la Fábrica de Electrodomésticos"
   ]
  },
  {
   "cell_type": "markdown",
   "metadata": {},
   "source": [
    "### Difinición del Problema:\n",
    "\n",
    "Variables de Decisión:\n",
    "- $x_1$: Cantidad de Neveras a producir.\n",
    "- $x_2$: Cantidad de Microondas a producir.\n",
    "- $x_3$: Cantidad de lavadoras a producir.\n",
    "\n",
    "\n",
    "Función Objetivo: $$ Max: Z = 80000x_1 + 40000x_2 + 60000x_3 $$\n",
    "\n",
    "Restricciones:\n",
    "\n",
    "1.\tHoras de técnicos tipo A:  $4x_1 + x_2 + 3x_3 \\leq 180$ .\n",
    "2.\tHoras de técnicos tipo B:  $2x_1 + x_2 + 2x_3 \\leq 200$ .\n",
    "3.\tMínimo de 40 electrodomésticos en total:  $x_1 + x_2 + x_3 \\geq 40$ .\n",
    "4.\tNo puede haber producción negativa:  $x_1, x_2, x_3 \\geq 0$ .\n",
    "\n",
    "\n"
   ]
  },
  {
   "cell_type": "code",
   "execution_count": null,
   "metadata": {},
   "outputs": [
    {
     "name": "stdout",
     "output_type": "stream",
     "text": [
      "Solución óptima encontrada:\n",
      "Cantidad de neveras a producir: 0.00\n",
      "Cantidad de microondas a producir: 180.00\n",
      "Cantidad de lavadoras a producir: 0.00\n",
      "Ingresos máximos: 7200000.00 euros\n"
     ]
    }
   ],
   "source": [
    "from scipy.optimize import linprog\n",
    "\n",
    "# Coeficientes de la función objetivo (ingresos por cada producto)\n",
    "c = [-80000, -40000, -60000]  # Negativos porque linprog minimiza\n",
    "\n",
    "# Restricciones (matriz de coeficientes y vector de límites)\n",
    "A = [\n",
    "    [4, 1, 3],  # Horas de técnicos tipo A\n",
    "    [2, 1, 2],  # Horas de técnicos tipo B\n",
    "    [-1, -1, -1]  # Total de electrodomésticos (para >= 40)\n",
    "]\n",
    "b = [180, 200, -40] # Se multiplica por -1\n",
    "\n",
    "# Límites de las variables (no negativos)\n",
    "x_bounds = (0, None)\n",
    "bounds = [x_bounds, x_bounds, x_bounds]\n",
    "\n",
    "# Resolver el problema de optimización lineal\n",
    "result = linprog(c, A_ub=A, b_ub=b, bounds=bounds, method='highs')\n",
    "\n",
    "# Mostrar los resultados\n",
    "if result.success:\n",
    "    print(\"Solución óptima encontrada:\")\n",
    "    print(f\"Cantidad de neveras a producir: {result.x[0]:.2f}\")\n",
    "    print(f\"Cantidad de microondas a producir: {result.x[1]:.2f}\")\n",
    "    print(f\"Cantidad de lavadoras a producir: {result.x[2]:.2f}\")\n",
    "    print(f\"Ingresos máximos: {-result.fun:.2f} euros\")\n",
    "else:\n",
    "    print(\"No se pudo encontrar una solución óptima.\")"
   ]
  },
  {
   "cell_type": "markdown",
   "metadata": {},
   "source": [
    "#### Resultado: Los ingresos máximos son de 7.200.000 Euros."
   ]
  }
 ],
 "metadata": {
  "kernelspec": {
   "display_name": "Python 3",
   "language": "python",
   "name": "python3"
  },
  "language_info": {
   "codemirror_mode": {
    "name": "ipython",
    "version": 3
   },
   "file_extension": ".py",
   "mimetype": "text/x-python",
   "name": "python",
   "nbconvert_exporter": "python",
   "pygments_lexer": "ipython3",
   "version": "3.11.4"
  }
 },
 "nbformat": 4,
 "nbformat_minor": 2
}
