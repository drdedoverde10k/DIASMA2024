{
 "cells": [
  {
   "cell_type": "code",
   "execution_count": 26,
   "metadata": {
    "executionInfo": {
     "elapsed": 965,
     "status": "ok",
     "timestamp": 1749090424613,
     "user": {
      "displayName": "Felipe Ernesto Espinoza Vidal",
      "userId": "04146006355974026509"
     },
     "user_tz": 240
    },
    "id": "kUz-I9lnvVWu"
   },
   "outputs": [],
   "source": [
    "# 👉 0. Importación de librerías necesarias\n",
    "import os\n",
    "from pyspark.sql import SparkSession\n",
    "from Bio import SeqIO\n",
    "import re"
   ]
  },
  {
   "cell_type": "code",
   "execution_count": 27,
   "metadata": {},
   "outputs": [],
   "source": [
    "# 👉 1. Configuración de entorno Java para Spark\n",
    "os.environ[\"JAVA_HOME\"] = \"/opt/homebrew/opt/openjdk@17\"\n",
    "os.environ[\"PATH\"] = f\"{os.environ['JAVA_HOME']}/bin:\" + os.environ[\"PATH\"]"
   ]
  },
  {
   "cell_type": "code",
   "execution_count": 28,
   "metadata": {
    "executionInfo": {
     "elapsed": 703,
     "status": "ok",
     "timestamp": 1749090752930,
     "user": {
      "displayName": "Felipe Ernesto Espinoza Vidal",
      "userId": "04146006355974026509"
     },
     "user_tz": 240
    },
    "id": "mRj_9c2p6BC8"
   },
   "outputs": [],
   "source": [
    "# 👉 2. Crear sesión de Spark\n",
    "spark = SparkSession.builder \\\n",
    "    .appName(\"busqueda_regex\") \\\n",
    "    .master(\"local[*]\") \\\n",
    "    .getOrCreate()\n",
    "\n",
    "sc = spark.sparkContext"
   ]
  },
  {
   "cell_type": "code",
   "execution_count": 29,
   "metadata": {},
   "outputs": [],
   "source": [
    "# 👉 3. Ruta de tus archivos fasta\n",
    "BASE_PATH = \"/Users/felipeespinoza/Documents/GitHub/DIASMA2024/Tecnicas Avanzadas de Programacion/Tarea 1/Prob1/\"\n",
    "\n",
    "archivos = [\n",
    "    os.path.join(BASE_PATH, \"Secuenciacion1_correctedLongReads.fasta\"),\n",
    "    os.path.join(BASE_PATH, \"Secuenciacion3_correctedLongReads.fasta\"),\n",
    "    os.path.join(BASE_PATH, \"Secuenciacion4_correctedshortReads.fasta\"),\n",
    "    os.path.join(BASE_PATH, \"Secuenciacion5_correctedLongReads.fasta\"),\n",
    "    os.path.join(BASE_PATH, \"Secuenciacion6_correctedshortReads.fasta\")\n",
    "]"
   ]
  },
  {
   "cell_type": "code",
   "execution_count": 19,
   "metadata": {},
   "outputs": [],
   "source": [
    "# 👉 4. Cargar el genoma de referencia (una vez, fuera del worker)\n",
    "genoma_path = os.path.join(BASE_PATH, \"Genoma_referencia.fasta\")\n",
    "genoma = str(next(SeqIO.parse(genoma_path, \"fasta\")).seq)"
   ]
  },
  {
   "cell_type": "code",
   "execution_count": 20,
   "metadata": {},
   "outputs": [],
   "source": [
    "# 👉 5. Función de búsqueda con regex\n",
    "def buscar(secuencia, genoma):\n",
    "    return [(m.start(), m.group()) for m in re.finditer(secuencia, genoma)]"
   ]
  },
  {
   "cell_type": "code",
   "execution_count": 21,
   "metadata": {},
   "outputs": [],
   "source": [
    "# 👉 6. Función a paralelizar (nota: reimporta dentro del worker)\n",
    "def procesar(archivo):\n",
    "    from Bio import SeqIO\n",
    "    import re\n",
    "    import os\n",
    "\n",
    "    try:\n",
    "        secuencia = str(next(SeqIO.parse(archivo, \"fasta\")).seq)\n",
    "        genoma = str(next(SeqIO.parse(genoma_path, \"fasta\")).seq)  # lectura local en cada worker\n",
    "        matches = [(m.start(), m.group()) for m in re.finditer(secuencia, genoma)]\n",
    "        return (os.path.basename(archivo), len(matches), [pos for pos, _ in matches])\n",
    "    except Exception as e:\n",
    "        return (os.path.basename(archivo), 0, f\"❌ Error: {e}\")"
   ]
  },
  {
   "cell_type": "code",
   "execution_count": 22,
   "metadata": {},
   "outputs": [
    {
     "name": "stderr",
     "output_type": "stream",
     "text": [
      "                                                                                \r"
     ]
    }
   ],
   "source": [
    "# 👉 7. Procesamiento distribuido\n",
    "rdd = sc.parallelize(archivos)\n",
    "resultados = rdd.map(procesar).collect()"
   ]
  },
  {
   "cell_type": "code",
   "execution_count": 23,
   "metadata": {},
   "outputs": [
    {
     "name": "stdout",
     "output_type": "stream",
     "text": [
      "📄 Secuenciacion1_correctedLongReads.fasta → 0 calce(s)\n",
      "   Posiciones: [] \n",
      "📄 Secuenciacion3_correctedLongReads.fasta → 0 calce(s)\n",
      "   Posiciones: [] \n",
      "📄 Secuenciacion4_correctedshortReads.fasta → 0 calce(s)\n",
      "   Posiciones: [] \n",
      "📄 Secuenciacion5_correctedLongReads.fasta → 0 calce(s)\n",
      "   Posiciones: [] \n",
      "📄 Secuenciacion6_correctedshortReads.fasta → 0 calce(s)\n",
      "   Posiciones: [] \n"
     ]
    }
   ],
   "source": [
    "# 👉 8. Mostrar resultados\n",
    "for archivo, cantidad, posiciones in resultados:\n",
    "    print(f\"📄 {archivo} → {cantidad} calce(s)\")\n",
    "    if isinstance(posiciones, list):\n",
    "        print(\"   Posiciones:\", posiciones[:5], \"...\" if len(posiciones) > 5 else \"\")\n",
    "    else:\n",
    "        print(\"   Error:\", posiciones)\n",
    "\n",
    "# spark.stop()  # puedes usar esto si estás fuera de notebooks"
   ]
  },
  {
   "cell_type": "code",
   "execution_count": null,
   "metadata": {
    "id": "5TqhlxU64SeP"
   },
   "outputs": [
    {
     "name": "stdout",
     "output_type": "stream",
     "text": [
      "Secuenciacion3_correctedLongReads.fasta — Calces: 0 — Posiciones: []\n",
      "Secuenciacion1_correctedLongReads.fasta — Calces: 0 — Posiciones: []\n",
      "Secuenciacion5_correctedLongReads.fasta — Calces: 0 — Posiciones: []\n",
      "Secuenciacion6_correctedshortReads.fasta — Calces: 0 — Posiciones: []\n",
      "Secuenciacion4_correctedshortReads.fasta — Calces: 0 — Posiciones: []\n"
     ]
    }
   ],
   "source": []
  },
  {
   "cell_type": "code",
   "execution_count": null,
   "metadata": {},
   "outputs": [],
   "source": []
  }
 ],
 "metadata": {
  "colab": {
   "authorship_tag": "ABX9TyPh/eP2wbM1EBlCtxcgstJ9",
   "mount_file_id": "1CFDjCfOHnIJUAxtUqIY99_xkjxCY9olu",
   "provenance": []
  },
  "kernelspec": {
   "display_name": "3.12.5",
   "language": "python",
   "name": "python3"
  },
  "language_info": {
   "codemirror_mode": {
    "name": "ipython",
    "version": 3
   },
   "file_extension": ".py",
   "mimetype": "text/x-python",
   "name": "python",
   "nbconvert_exporter": "python",
   "pygments_lexer": "ipython3",
   "version": "3.12.5"
  }
 },
 "nbformat": 4,
 "nbformat_minor": 0
}
